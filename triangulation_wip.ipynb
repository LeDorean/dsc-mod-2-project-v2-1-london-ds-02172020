{
 "cells": [
  {
   "cell_type": "code",
   "execution_count": 152,
   "metadata": {},
   "outputs": [],
   "source": [
    "# importing all libraries.\n",
    "import pandas as pd\n",
    "import statsmodels.api as sm\n",
    "import math\n",
    "import matplotlib.pyplot as plt\n",
    "import seaborn as sns\n",
    "import numpy as np\n",
    "\n",
    "from statsmodels.formula.api import ols\n",
    "from sklearn import preprocessing\n",
    "from scipy import stats\n",
    "\n",
    "%matplotlib inline\n",
    "plt.style.use('seaborn')\n",
    "\n",
    "from sklearn.model_selection import train_test_split,KFold,cross_validate\n",
    "from sklearn.linear_model import LinearRegression"
   ]
  },
  {
   "cell_type": "code",
   "execution_count": 153,
   "metadata": {},
   "outputs": [],
   "source": [
    "# dropping extra index column.\n",
    "df_clean_1 = pd.read_csv('df_clean_1.csv')\n",
    "df_clean_1 = df_clean_1.drop(['Unnamed: 0'], axis=1)"
   ]
  },
  {
   "cell_type": "code",
   "execution_count": 154,
   "metadata": {},
   "outputs": [],
   "source": [
    "# creating numpy arrays for the latitudes and longitudes of each house that is by the water.\n",
    "water_lat = np.array(df_clean_1.loc[(df_clean_1['waterfront_bool'] == 1)]['lat'])\n",
    "water_long = np.array(df_clean_1.loc[(df_clean_1['waterfront_bool'] == 1)]['long'])\n",
    "\n",
    "# creating numpy arrays for latitudes and longitudes of each house.\n",
    "house_lat = np.array(df_clean_1['lat'])\n",
    "house_long = np.array(df_clean_1['long'])\n",
    "house_id = np.array(df_clean_1['id'])"
   ]
  },
  {
   "cell_type": "code",
   "execution_count": 155,
   "metadata": {},
   "outputs": [],
   "source": [
    "def find_pairs(water_array, house_array, house_id):\n",
    "    pairs_found = []\n",
    "    cross_array = np.absolute(water_array[np.newaxis, :] - house_array[:, np.newaxis])\n",
    "    for i in range(cross_array.shape[0]):\n",
    "        row_min = cross_array[i].min()\n",
    "        col = house_id[np.asscalar((np.where(cross_array[i] == cross_array[i].min())[0]).min())]\n",
    "        pairs_found.append((row_min, col))\n",
    "    return pairs_found\n"
   ]
  },
  {
   "cell_type": "code",
   "execution_count": 156,
   "metadata": {},
   "outputs": [
    {
     "name": "stderr",
     "output_type": "stream",
     "text": [
      "/opt/anaconda3/lib/python3.7/site-packages/ipykernel_launcher.py:6: DeprecationWarning: np.asscalar(a) is deprecated since NumPy v1.16, use a.item() instead\n",
      "  \n"
     ]
    },
    {
     "data": {
      "text/html": [
       "<div>\n",
       "<style scoped>\n",
       "    .dataframe tbody tr th:only-of-type {\n",
       "        vertical-align: middle;\n",
       "    }\n",
       "\n",
       "    .dataframe tbody tr th {\n",
       "        vertical-align: top;\n",
       "    }\n",
       "\n",
       "    .dataframe thead th {\n",
       "        text-align: right;\n",
       "    }\n",
       "</style>\n",
       "<table border=\"1\" class=\"dataframe\">\n",
       "  <thead>\n",
       "    <tr style=\"text-align: right;\">\n",
       "      <th></th>\n",
       "      <th>y_distance</th>\n",
       "      <th>nearest_house_lat</th>\n",
       "      <th>x_distance</th>\n",
       "      <th>nearest_house_long</th>\n",
       "    </tr>\n",
       "  </thead>\n",
       "  <tbody>\n",
       "    <tr>\n",
       "      <th>0</th>\n",
       "      <td>0.0002</td>\n",
       "      <td>6197800045</td>\n",
       "      <td>0.000</td>\n",
       "      <td>9558200045</td>\n",
       "    </tr>\n",
       "    <tr>\n",
       "      <th>1</th>\n",
       "      <td>0.0045</td>\n",
       "      <td>3793500160</td>\n",
       "      <td>0.004</td>\n",
       "      <td>9545240070</td>\n",
       "    </tr>\n",
       "    <tr>\n",
       "      <th>2</th>\n",
       "      <td>0.0025</td>\n",
       "      <td>8035350320</td>\n",
       "      <td>0.002</td>\n",
       "      <td>7766200013</td>\n",
       "    </tr>\n",
       "    <tr>\n",
       "      <th>3</th>\n",
       "      <td>0.0015</td>\n",
       "      <td>9558200045</td>\n",
       "      <td>0.000</td>\n",
       "      <td>3444100400</td>\n",
       "    </tr>\n",
       "    <tr>\n",
       "      <th>4</th>\n",
       "      <td>0.0005</td>\n",
       "      <td>1328310370</td>\n",
       "      <td>0.014</td>\n",
       "      <td>5547700270</td>\n",
       "    </tr>\n",
       "    <tr>\n",
       "      <th>...</th>\n",
       "      <td>...</td>\n",
       "      <td>...</td>\n",
       "      <td>...</td>\n",
       "      <td>...</td>\n",
       "    </tr>\n",
       "    <tr>\n",
       "      <th>21412</th>\n",
       "      <td>0.0004</td>\n",
       "      <td>8820901275</td>\n",
       "      <td>0.002</td>\n",
       "      <td>1321400060</td>\n",
       "    </tr>\n",
       "    <tr>\n",
       "      <th>21413</th>\n",
       "      <td>0.0002</td>\n",
       "      <td>1736800520</td>\n",
       "      <td>0.002</td>\n",
       "      <td>2768000400</td>\n",
       "    </tr>\n",
       "    <tr>\n",
       "      <th>21414</th>\n",
       "      <td>0.0001</td>\n",
       "      <td>3224079105</td>\n",
       "      <td>0.012</td>\n",
       "      <td>3303700376</td>\n",
       "    </tr>\n",
       "    <tr>\n",
       "      <th>21415</th>\n",
       "      <td>0.0003</td>\n",
       "      <td>9478500640</td>\n",
       "      <td>0.001</td>\n",
       "      <td>1328310370</td>\n",
       "    </tr>\n",
       "    <tr>\n",
       "      <th>21416</th>\n",
       "      <td>0.0002</td>\n",
       "      <td>3224079105</td>\n",
       "      <td>0.012</td>\n",
       "      <td>3303700376</td>\n",
       "    </tr>\n",
       "  </tbody>\n",
       "</table>\n",
       "<p>21417 rows × 4 columns</p>\n",
       "</div>"
      ],
      "text/plain": [
       "       y_distance  nearest_house_lat  x_distance  nearest_house_long\n",
       "0          0.0002         6197800045       0.000          9558200045\n",
       "1          0.0045         3793500160       0.004          9545240070\n",
       "2          0.0025         8035350320       0.002          7766200013\n",
       "3          0.0015         9558200045       0.000          3444100400\n",
       "4          0.0005         1328310370       0.014          5547700270\n",
       "...           ...                ...         ...                 ...\n",
       "21412      0.0004         8820901275       0.002          1321400060\n",
       "21413      0.0002         1736800520       0.002          2768000400\n",
       "21414      0.0001         3224079105       0.012          3303700376\n",
       "21415      0.0003         9478500640       0.001          1328310370\n",
       "21416      0.0002         3224079105       0.012          3303700376\n",
       "\n",
       "[21417 rows x 4 columns]"
      ]
     },
     "execution_count": 156,
     "metadata": {},
     "output_type": "execute_result"
    }
   ],
   "source": [
    "df_lat_pairs = pd.DataFrame(find_pairs(water_lat,house_lat,house_id), columns=['y_distance','nearest_house_lat'])\n",
    "df_long_pairs = pd.DataFrame(find_pairs(water_long,house_long,house_id), columns=['x_distance','nearest_house_long'])\n",
    "df_pairs = pd.concat([df_lat_pairs,df_long_pairs], axis=1)\n",
    "df_pairs"
   ]
  },
  {
   "cell_type": "code",
   "execution_count": 176,
   "metadata": {},
   "outputs": [],
   "source": [
    "df_pairs['check'] = df_pairs[['y_distance', 'x_distance']].min(axis=1)"
   ]
  },
  {
   "cell_type": "code",
   "execution_count": 158,
   "metadata": {},
   "outputs": [
    {
     "data": {
      "text/plain": [
       "0.00019999999999953388"
      ]
     },
     "execution_count": 158,
     "metadata": {},
     "output_type": "execute_result"
    }
   ],
   "source": [
    "cross_array = np.absolute(water_lat[np.newaxis, :] - house_lat[:, np.newaxis])\n",
    "cross_array[0].min()"
   ]
  },
  {
   "cell_type": "code",
   "execution_count": 159,
   "metadata": {},
   "outputs": [
    {
     "data": {
      "text/plain": [
       "array([0.0002, 0.0045, 0.0025, ..., 0.0001, 0.0003, 0.0002])"
      ]
     },
     "execution_count": 159,
     "metadata": {},
     "output_type": "execute_result"
    }
   ],
   "source": [
    "y_dist_to_water"
   ]
  },
  {
   "cell_type": "code",
   "execution_count": 160,
   "metadata": {},
   "outputs": [],
   "source": [
    "# y_dist_to_water = np.amin(np.absolute(house_lat[np.newaxis, :] - water_lat[:, np.newaxis]), axis=0)\n",
    "# x_dist_to_water = np.amin(np.absolute(house_long[np.newaxis, :] - water_long[:, np.newaxis]), axis=0)"
   ]
  },
  {
   "cell_type": "code",
   "execution_count": 161,
   "metadata": {},
   "outputs": [],
   "source": [
    "w = np.array([1,2,3,4,5])\n",
    "h = np.array([2,5,4,6,6,2,1])"
   ]
  },
  {
   "cell_type": "code",
   "execution_count": 162,
   "metadata": {},
   "outputs": [
    {
     "data": {
      "text/plain": [
       "array([0, 0, 0, 1, 1, 0, 0])"
      ]
     },
     "execution_count": 162,
     "metadata": {},
     "output_type": "execute_result"
    }
   ],
   "source": [
    "y_dist_to_w = np.amin(np.absolute(w[np.newaxis, :] - h[:, np.newaxis]), axis=1)\n",
    "y_dist_to_w"
   ]
  },
  {
   "cell_type": "code",
   "execution_count": 163,
   "metadata": {},
   "outputs": [
    {
     "data": {
      "text/plain": [
       "array([[1, 0, 1, 2, 3],\n",
       "       [4, 3, 2, 1, 0],\n",
       "       [3, 2, 1, 0, 1],\n",
       "       [5, 4, 3, 2, 1],\n",
       "       [5, 4, 3, 2, 1],\n",
       "       [1, 0, 1, 2, 3],\n",
       "       [0, 1, 2, 3, 4]])"
      ]
     },
     "execution_count": 163,
     "metadata": {},
     "output_type": "execute_result"
    }
   ],
   "source": [
    "array = np.absolute(w[np.newaxis, :] - h[:, np.newaxis])\n",
    "array"
   ]
  },
  {
   "cell_type": "code",
   "execution_count": 164,
   "metadata": {},
   "outputs": [
    {
     "ename": "IndexError",
     "evalue": "only integers, slices (`:`), ellipsis (`...`), numpy.newaxis (`None`) and integer or boolean arrays are valid indices",
     "output_type": "error",
     "traceback": [
      "\u001b[0;31m---------------------------------------------------------------------------\u001b[0m",
      "\u001b[0;31mIndexError\u001b[0m                                Traceback (most recent call last)",
      "\u001b[0;32m<ipython-input-164-ca008dae1f73>\u001b[0m in \u001b[0;36m<module>\u001b[0;34m\u001b[0m\n\u001b[1;32m     10\u001b[0m \u001b[0;34m\u001b[0m\u001b[0m\n\u001b[1;32m     11\u001b[0m \u001b[0;34m\u001b[0m\u001b[0m\n\u001b[0;32m---> 12\u001b[0;31m \u001b[0mfind_pairs\u001b[0m\u001b[0;34m(\u001b[0m\u001b[0mw\u001b[0m\u001b[0;34m,\u001b[0m\u001b[0mh\u001b[0m\u001b[0;34m)\u001b[0m\u001b[0;34m\u001b[0m\u001b[0;34m\u001b[0m\u001b[0m\n\u001b[0m",
      "\u001b[0;32m<ipython-input-164-ca008dae1f73>\u001b[0m in \u001b[0;36mfind_pairs\u001b[0;34m(w_array, h_array)\u001b[0m\n\u001b[1;32m      5\u001b[0m         \u001b[0mrow_min\u001b[0m \u001b[0;34m=\u001b[0m \u001b[0mcross_array\u001b[0m\u001b[0;34m[\u001b[0m\u001b[0mi\u001b[0m\u001b[0;34m]\u001b[0m\u001b[0;34m.\u001b[0m\u001b[0mmin\u001b[0m\u001b[0;34m(\u001b[0m\u001b[0;34m)\u001b[0m\u001b[0;34m\u001b[0m\u001b[0;34m\u001b[0m\u001b[0m\n\u001b[1;32m      6\u001b[0m         \u001b[0mcol\u001b[0m \u001b[0;34m=\u001b[0m \u001b[0mfloat\u001b[0m\u001b[0;34m(\u001b[0m\u001b[0mnp\u001b[0m\u001b[0;34m.\u001b[0m\u001b[0mwhere\u001b[0m\u001b[0;34m(\u001b[0m\u001b[0mcross_array\u001b[0m\u001b[0;34m[\u001b[0m\u001b[0mi\u001b[0m\u001b[0;34m]\u001b[0m \u001b[0;34m==\u001b[0m \u001b[0mcross_array\u001b[0m\u001b[0;34m[\u001b[0m\u001b[0mi\u001b[0m\u001b[0;34m]\u001b[0m\u001b[0;34m.\u001b[0m\u001b[0mmin\u001b[0m\u001b[0;34m(\u001b[0m\u001b[0;34m)\u001b[0m\u001b[0;34m)\u001b[0m\u001b[0;34m[\u001b[0m\u001b[0;36m0\u001b[0m\u001b[0;34m]\u001b[0m\u001b[0;34m)\u001b[0m\u001b[0;34m\u001b[0m\u001b[0;34m\u001b[0m\u001b[0m\n\u001b[0;32m----> 7\u001b[0;31m         \u001b[0mcol_name\u001b[0m \u001b[0;34m=\u001b[0m \u001b[0mw_array\u001b[0m\u001b[0;34m[\u001b[0m\u001b[0mcol\u001b[0m\u001b[0;34m]\u001b[0m\u001b[0;34m\u001b[0m\u001b[0;34m\u001b[0m\u001b[0m\n\u001b[0m\u001b[1;32m      8\u001b[0m         \u001b[0mpairs_found\u001b[0m\u001b[0;34m.\u001b[0m\u001b[0mappend\u001b[0m\u001b[0;34m(\u001b[0m\u001b[0;34m(\u001b[0m\u001b[0mrow_min\u001b[0m\u001b[0;34m,\u001b[0m \u001b[0mcol\u001b[0m\u001b[0;34m)\u001b[0m\u001b[0;34m)\u001b[0m\u001b[0;34m\u001b[0m\u001b[0;34m\u001b[0m\u001b[0m\n\u001b[1;32m      9\u001b[0m     \u001b[0;32mreturn\u001b[0m \u001b[0mpairs_found\u001b[0m\u001b[0;34m\u001b[0m\u001b[0;34m\u001b[0m\u001b[0m\n",
      "\u001b[0;31mIndexError\u001b[0m: only integers, slices (`:`), ellipsis (`...`), numpy.newaxis (`None`) and integer or boolean arrays are valid indices"
     ]
    }
   ],
   "source": [
    "def find_pairs(w_array, h_array):\n",
    "    pairs_found = []\n",
    "    cross_array = np.absolute(w_array[np.newaxis, :] - h_array[:, np.newaxis])\n",
    "    for i in range(cross_array.shape[0]):\n",
    "        row_min = cross_array[i].min()\n",
    "        col = float(np.where(cross_array[i] == cross_array[i].min())[0])\n",
    "        col_name = w_array[col]\n",
    "        pairs_found.append((row_min, col))\n",
    "    return pairs_found\n",
    "\n",
    "        \n",
    "find_pairs(w,h)"
   ]
  },
  {
   "cell_type": "code",
   "execution_count": null,
   "metadata": {},
   "outputs": [],
   "source": [
    "array[:,0]"
   ]
  },
  {
   "cell_type": "code",
   "execution_count": null,
   "metadata": {},
   "outputs": [],
   "source": [
    "array.shape[1]"
   ]
  },
  {
   "cell_type": "code",
   "execution_count": null,
   "metadata": {},
   "outputs": [],
   "source": [
    "df_clean_1[['id','lat']].head()"
   ]
  },
  {
   "cell_type": "code",
   "execution_count": null,
   "metadata": {},
   "outputs": [],
   "source": []
  }
 ],
 "metadata": {
  "kernelspec": {
   "display_name": "Python 3",
   "language": "python",
   "name": "python3"
  },
  "language_info": {
   "codemirror_mode": {
    "name": "ipython",
    "version": 3
   },
   "file_extension": ".py",
   "mimetype": "text/x-python",
   "name": "python",
   "nbconvert_exporter": "python",
   "pygments_lexer": "ipython3",
   "version": "3.7.6"
  }
 },
 "nbformat": 4,
 "nbformat_minor": 4
}
